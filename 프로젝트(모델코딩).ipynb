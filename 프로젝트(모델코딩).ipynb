{
  "cells": [
    {
      "cell_type": "code",
      "execution_count": null,
      "metadata": {
        "colab": {
          "base_uri": "https://localhost:8080/"
        },
        "id": "nq8j_yhzDEOX",
        "outputId": "293770ab-053e-4414-c414-2c2a8eb59514"
      },
      "outputs": [
        {
          "name": "stdout",
          "output_type": "stream",
          "text": [
            "/content/drive/MyDrive/Colab Notebooks/plant\n"
          ]
        }
      ],
      "source": [
        "cd /content/drive/MyDrive/Colab Notebooks/plant"
      ]
    },
    {
      "cell_type": "code",
      "execution_count": 1,
      "metadata": {
        "id": "Avd4Qt62DHcq"
      },
      "outputs": [],
      "source": [
        "import numpy as np\n",
        "import os\n",
        "from keras.applications.inception_resnet_v2 import InceptionResNetV2\n",
        "from tensorflow.python.keras.models import Sequential\n",
        "from tensorflow.python.keras.applications.vgg16 import VGG16\n",
        "from tensorflow.python.keras.applications.densenet import DenseNet121\n",
        "from tensorflow.python.keras.layers import Dense\n",
        "from tensorflow.python.keras.layers import Flatten\n",
        "from tensorflow.python.keras.layers.convolutional import Conv2D\n",
        "from tensorflow.python.keras.layers.convolutional import MaxPooling2D\n",
        "from tensorflow.python.keras.preprocessing.image import ImageDataGenerator\n",
        "from tensorflow.keras.optimizers import Adam\n",
        "from PIL import Image"
      ]
    },
    {
      "cell_type": "code",
      "execution_count": 2,
      "metadata": {
        "id": "bWHZD7AnDoH4"
      },
      "outputs": [],
      "source": [
        "# 랜덤시드 고정시키기\n",
        "np.random.seed(3)"
      ]
    },
    {
      "cell_type": "code",
      "execution_count": 3,
      "metadata": {
        "colab": {
          "base_uri": "https://localhost:8080/"
        },
        "id": "u7gcvCb7E9wx",
        "outputId": "fc152b01-5d29-49a6-d656-9a4f357d04a0"
      },
      "outputs": [
        {
          "name": "stdout",
          "output_type": "stream",
          "text": [
            "Found 3625 images belonging to 10 classes.\n"
          ]
        }
      ],
      "source": [
        "# 1. 데이터 생성하기\n",
        "train_datagen = ImageDataGenerator(rescale=1./255)\n",
        "# 이미지 픽셀값을 0~1사이의 값으로 맞춰주기 위함.\n",
        "\n",
        "train_generator = train_datagen.flow_from_directory(\n",
        "        '/content/drive/MyDrive/Colab Notebooks/plant/dataset/train',\n",
        "        target_size=(64, 64),\n",
        "        batch_size=32,\n",
        "        class_mode='categorical')   \n"
      ]
    },
    {
      "cell_type": "code",
      "execution_count": 4,
      "metadata": {
        "colab": {
          "base_uri": "https://localhost:8080/"
        },
        "id": "MzhLw0SvFEtn",
        "outputId": "b7bd3f9f-88a6-46ff-8269-baea0894b50c"
      },
      "outputs": [
        {
          "name": "stdout",
          "output_type": "stream",
          "text": [
            "Found 2017 images belonging to 10 classes.\n"
          ]
        }
      ],
      "source": [
        "test_datagen = ImageDataGenerator(rescale=1./255)\n",
        "test_generator = test_datagen.flow_from_directory(\n",
        "        '/content/drive/MyDrive/Colab Notebooks/plant/dataset/test',\n",
        "        target_size=(64, 64),    \n",
        "        batch_size=32,\n",
        "        class_mode='categorical')\n"
      ]
    },
    {
      "cell_type": "code",
      "execution_count": 5,
      "metadata": {
        "colab": {
          "base_uri": "https://localhost:8080/"
        },
        "id": "zrWFqlNzFQg3",
        "outputId": "23014386-3eef-4a82-97bf-a2d7989ac5ce"
      },
      "outputs": [
        {
          "name": "stdout",
          "output_type": "stream",
          "text": [
            "(0, 'left1')\n",
            "(1, 'left2')\n",
            "(2, 'left3')\n",
            "(3, 'left4')\n",
            "(4, 'left_normal')\n",
            "(5, 'right1')\n",
            "(6, 'right2')\n",
            "(7, 'right3')\n",
            "(8, 'right4')\n",
            "(9, 'right_normal')\n"
          ]
        }
      ],
      "source": [
        "categories = test_generator.class_indices\n",
        "\n",
        "for a in enumerate (categories):\n",
        "    print(a)"
      ]
    },
    {
      "cell_type": "code",
      "execution_count": 6,
      "metadata": {
        "id": "zLb8YpIeI-ik"
      },
      "outputs": [],
      "source": [
        "# 쉽게 눈의 카테고리를 확인할 수 있도록 텍스트 파일 생성\n",
        "category_dir = os.path.join(os.getcwd(), '/content/drive/MyDrive/Colab Notebooks/plant/semiconductor/aiedusecond')\n",
        "if not os.path.exists(category_dir):\n",
        "    os.makedirs(category_dir)\n",
        "\n",
        "with open(os.path.join(category_dir, '/content/drive/MyDrive/Colab Notebooks/plant/semiconductor/aiedusecond/목록확인.txt'), 'w')as f:\n",
        "    for line in categories:\n",
        "        f.write(line + \"\\n\")"
      ]
    },
    {
      "cell_type": "code",
      "execution_count": 7,
      "metadata": {
        "colab": {
          "base_uri": "https://localhost:8080/"
        },
        "id": "2n23LQAuJkaL",
        "outputId": "7a013994-fbf9-4ead-b7ae-d0adbec53360"
      },
      "outputs": [
        {
          "name": "stdout",
          "output_type": "stream",
          "text": [
            "Model: \"sequential\"\n",
            "_________________________________________________________________\n",
            "Layer (type)                 Output Shape              Param #   \n",
            "=================================================================\n",
            "conv2d (Conv2D)              (None, 62, 62, 32)        896       \n",
            "_________________________________________________________________\n",
            "conv2d_1 (Conv2D)            (None, 60, 60, 64)        18496     \n",
            "_________________________________________________________________\n",
            "max_pooling2d (MaxPooling2D) (None, 30, 30, 64)        0         \n",
            "_________________________________________________________________\n",
            "flatten (Flatten)            (None, 57600)             0         \n",
            "_________________________________________________________________\n",
            "dense (Dense)                (None, 128)               7372928   \n",
            "_________________________________________________________________\n",
            "dense_1 (Dense)              (None, 5)                 645       \n",
            "=================================================================\n",
            "Total params: 7,392,965\n",
            "Trainable params: 7,392,965\n",
            "Non-trainable params: 0\n",
            "_________________________________________________________________\n"
          ]
        }
      ],
      "source": [
        "#6. 모델 구성하기\n",
        "\n",
        "model = Sequential()\n",
        "model.add(Conv2D(32, kernel_size=(3, 3),\n",
        "                 activation='relu',\n",
        "                 input_shape=(64,64,3)))\n",
        "model.add(Conv2D(64, (3, 3), activation='relu'))\n",
        "model.add(MaxPooling2D(pool_size=(2, 2)))\n",
        "model.add(Flatten())\n",
        "model.add(Dense(128, activation='relu'))\n",
        "model.add(Dense(5, activation='softmax'))\n",
        "model.summary()"
      ]
    },
    {
      "cell_type": "code",
      "execution_count": 14,
      "metadata": {
        "id": "5V0Bn1faJrt0"
      },
      "outputs": [],
      "source": [
        "# 3. 모델 학습과정 설정하기\n",
        "model.compile(loss='categorical_crossentropy', optimizer='Adam', metrics=['accuracy'])\n",
        "#loss = 현재 가중치 세트를 평가하는 데 사용한 손실함수. 다중 클래스 문제이므로 categorical_crossentropy 지정\n",
        "# optimizer = 최적의 가중치를 검색하는 데 사용되는 최적화 알고리즘. 경사 하강법 알고리즘 중 하나 인 adam 사용\n",
        "# metrics = 평가 척도를 나타냄. 분류 문제에서는 일반적으로 accuracy로 지정."
      ]
    },
    {
      "cell_type": "code",
      "execution_count": 15,
      "metadata": {
        "colab": {
          "base_uri": "https://localhost:8080/"
        },
        "id": "-Kcx_JVcON9w",
        "outputId": "35d5ca31-bb70-4033-f695-c88cc2012baa"
      },
      "outputs": [
        {
          "name": "stdout",
          "output_type": "stream",
          "text": [
            "Epoch 1/20\n",
            "3/3 [==============================] - 151s 63s/step - loss: 2.5344 - accuracy: 0.2604 - val_loss: 2.4412 - val_accuracy: 0.1250\n",
            "Epoch 2/20\n",
            "3/3 [==============================] - 139s 58s/step - loss: 1.7869 - accuracy: 0.3229 - val_loss: 1.7740 - val_accuracy: 0.1750\n",
            "Epoch 3/20\n",
            "3/3 [==============================] - 126s 53s/step - loss: 1.3290 - accuracy: 0.4479 - val_loss: 1.7237 - val_accuracy: 0.1688\n",
            "Epoch 4/20\n",
            "3/3 [==============================] - 123s 52s/step - loss: 1.2096 - accuracy: 0.5208 - val_loss: 1.5006 - val_accuracy: 0.3313\n",
            "Epoch 5/20\n",
            "3/3 [==============================] - 116s 48s/step - loss: 1.1974 - accuracy: 0.5625 - val_loss: 1.4624 - val_accuracy: 0.2375\n",
            "Epoch 6/20\n",
            "3/3 [==============================] - 108s 43s/step - loss: 1.2105 - accuracy: 0.5521 - val_loss: 2.0968 - val_accuracy: 0.2688\n",
            "Epoch 7/20\n",
            "3/3 [==============================] - 108s 45s/step - loss: 1.2432 - accuracy: 0.5625 - val_loss: 1.7492 - val_accuracy: 0.2875\n",
            "Epoch 8/20\n",
            "3/3 [==============================] - 176s 73s/step - loss: 1.1946 - accuracy: 0.5521 - val_loss: 1.5502 - val_accuracy: 0.4938\n",
            "Epoch 9/20\n",
            "3/3 [==============================] - 266s 101s/step - loss: 0.9352 - accuracy: 0.6250 - val_loss: 1.5511 - val_accuracy: 0.6187\n",
            "Epoch 10/20\n",
            "3/3 [==============================] - 217s 82s/step - loss: 1.0871 - accuracy: 0.6146 - val_loss: 1.5240 - val_accuracy: 0.5750\n",
            "Epoch 11/20\n",
            "3/3 [==============================] - 141s 55s/step - loss: 1.1538 - accuracy: 0.5521 - val_loss: 1.4691 - val_accuracy: 0.5250\n",
            "Epoch 12/20\n",
            "3/3 [==============================] - 136s 55s/step - loss: 0.9572 - accuracy: 0.6354 - val_loss: 1.5433 - val_accuracy: 0.4688\n",
            "Epoch 13/20\n",
            "3/3 [==============================] - 94s 41s/step - loss: 1.1063 - accuracy: 0.5938 - val_loss: 1.4937 - val_accuracy: 0.4875\n",
            "Epoch 14/20\n",
            "3/3 [==============================] - 73s 30s/step - loss: 0.9337 - accuracy: 0.6562 - val_loss: 1.5341 - val_accuracy: 0.5938\n",
            "Epoch 15/20\n",
            "3/3 [==============================] - 69s 28s/step - loss: 0.9717 - accuracy: 0.6146 - val_loss: 1.4352 - val_accuracy: 0.5562\n",
            "Epoch 16/20\n",
            "3/3 [==============================] - 67s 28s/step - loss: 0.9662 - accuracy: 0.5938 - val_loss: 1.5814 - val_accuracy: 0.5000\n",
            "Epoch 17/20\n",
            "3/3 [==============================] - 55s 24s/step - loss: 0.9808 - accuracy: 0.6875 - val_loss: 1.5375 - val_accuracy: 0.5250\n",
            "Epoch 18/20\n",
            "3/3 [==============================] - 73s 30s/step - loss: 1.0174 - accuracy: 0.6458 - val_loss: 1.4900 - val_accuracy: 0.5312\n",
            "Epoch 19/20\n",
            "3/3 [==============================] - 57s 25s/step - loss: 0.9325 - accuracy: 0.6458 - val_loss: 1.4904 - val_accuracy: 0.5375\n",
            "Epoch 20/20\n",
            "3/3 [==============================] - 68s 29s/step - loss: 0.8804 - accuracy: 0.6771 - val_loss: 1.5822 - val_accuracy: 0.4062\n"
          ]
        }
      ],
      "source": [
        "# 4. 모델 학습시키기\n",
        "hist = model.fit(train_generator,\n",
        "                 steps_per_epoch=3,\n",
        "                 epochs=20,\n",
        "                 validation_data=test_generator,\n",
        "                 validation_steps=5)"
      ]
    },
    {
      "cell_type": "code",
      "execution_count": null,
      "metadata": {
        "colab": {
          "base_uri": "https://localhost:8080/"
        },
        "id": "2vwMNR2FP7A3",
        "outputId": "a2e8a025-53e3-4ffd-b9cc-dbbedb1b4b03"
      },
      "outputs": [
        {
          "name": "stdout",
          "output_type": "stream",
          "text": [
            "-- Evaluate --\n",
            "5/5 [==============================] - 19s 4s/step - loss: 1.3672 - accuracy: 0.5688\n",
            "accuracy: 56.88%\n",
            "-- Predict --\n",
            "{'left1': 0, 'left2': 1, 'left3': 2, 'left4': 3, 'left_normal': 4, 'right1': 5, 'right2': 6, 'right3': 7, 'right4': 8, 'right_normal': 9}\n",
            "[[0.007 0.012 0.004 ... 0.060 0.087 0.186]\n",
            " [0.010 0.010 0.003 ... 0.000 0.000 0.001]\n",
            " [0.065 0.694 0.093 ... 0.017 0.007 0.001]\n",
            " ...\n",
            " [0.001 0.009 0.001 ... 0.024 0.012 0.003]\n",
            " [0.117 0.280 0.037 ... 0.050 0.069 0.010]\n",
            " [0.030 0.145 0.029 ... 0.105 0.069 0.024]]\n"
          ]
        }
      ],
      "source": [
        "# 5. 모델 평가하기\n",
        "print(\"-- Evaluate --\")\n",
        "scores = model.evaluate(test_generator, steps=5)\n",
        "print(\"%s: %.2f%%\" %(model.metrics_names[1], scores[1]*100))\n",
        "\n",
        "# 6. 모델 사용하기\n",
        "print(\"-- Predict --\")\n",
        "output = model.predict(test_generator, steps=5)\n",
        "np.set_printoptions(formatter={'float': lambda x: \"{0:0.3f}\".format(x)})\n",
        "print(test_generator.class_indices)\n",
        "print(output)\n",
        "# 클래스별 확률 벡터로 출력"
      ]
    },
    {
      "cell_type": "code",
      "execution_count": null,
      "metadata": {
        "id": "XAwZbgkeP7y7"
      },
      "outputs": [],
      "source": [
        "# 모델 저장\n",
        "model_dir = '/content/drive/MyDrive/Colab Notebooks/plant/semiconductor/model'\n",
        "hdf5_file = '/content/drive/MyDrive/Colab Notebooks/plant/semiconductor/hd5'\n",
        "\n",
        "if not os.path.exists(model_dir):\n",
        "    os.mkdir(model_dir)\n",
        "    \n",
        "if not os.path.exists(hdf5_file):\n",
        "    model.save_weights(hdf5_file)\n",
        "\n",
        "model_path = model_dir + '/multi_img_classification.model'\n",
        "\n",
        "model.save('/content/drive/MyDrive/Colab Notebooks/plant/semiconductor/my_model.h5')"
      ]
    },
    {
      "cell_type": "code",
      "execution_count": null,
      "metadata": {
        "colab": {
          "base_uri": "https://localhost:8080/"
        },
        "id": "H-Sqx0hcimtR",
        "outputId": "da1ee793-c496-4e91-ca7f-e36dc1032115"
      },
      "outputs": [
        {
          "name": "stdout",
          "output_type": "stream",
          "text": [
            "test_photo2.png 로 예상되는 진단은:  5 (번째) 입니다.\n",
            "[[0.000 0.000 0.000 0.000 0.000 1.000 0.000 0.000 0.000 0.000]]\n"
          ]
        }
      ],
      "source": [
        "# 테스트\n",
        "\n",
        "test_image = '/content/drive/MyDrive/Colab Notebooks/plant/semiconductor/test_photo2.png'\n",
        "image_name = test_image.split('/')\n",
        "\n",
        "img = Image.open(test_image)\n",
        "img = img.convert(\"RGB\")\n",
        "img = img.resize((64,64))\n",
        "data = np.asarray(img)\n",
        "\n",
        "X = np.array(data)\n",
        "X = X.astype(\"float\")/256\n",
        "X = X.reshape(-1,64,64,3)\n",
        "\n",
        "pred = model.predict(X)\n",
        "result = [np.argmax(value) for value in pred]\n",
        "print('{} 로 예상되는 진단은: '.format(image_name[-1]), result[0], \"(번째) 입니다.\")\n",
        "print(pred)\n",
        "\n",
        "#0 1 2 3 4 5"
      ]
    },
    {
      "cell_type": "code",
      "execution_count": null,
      "metadata": {
        "colab": {
          "base_uri": "https://localhost:8080/",
          "height": 286
        },
        "id": "15PHaUDGP-tv",
        "outputId": "80f3386b-3a30-48d2-acf1-c08257d91780"
      },
      "outputs": [
        {
          "name": "stderr",
          "output_type": "stream",
          "text": [
            "No handles with labels found to put in legend.\n"
          ]
        },
        {
          "data": {
            "image/png": "[encoded data removed]",
            "text/plain": [
              "<Figure size 432x288 with 2 Axes>"
            ]
          },
          "metadata": {
            "needs_background": "light"
          },
          "output_type": "display_data"
        }
      ],
      "source": [
        "# 모델 학습 과정 표시\n",
        "\n",
        "import matplotlib.pyplot as plt\n",
        "\n",
        "fig, loss_ax = plt.subplots()\n",
        "\n",
        "acc_ax = loss_ax.twinx()\n",
        "\n",
        "# loss_ax.plot(hist.history['loss'], 'y', label='train loss')\n",
        "# loss_ax.plot(hist.history['val_loss'], 'r', label='val loss')\n",
        "\n",
        "acc_ax.plot(hist.history['accuracy'], 'b', label='train acc')\n",
        "acc_ax.plot(hist.history['val_accuracy'], 'g', label='val acc')\n",
        "\n",
        "# loss_ax.set_xlabel('epoch')\n",
        "# loss_ax.set_ylabel('loss')\n",
        "acc_ax.set_ylabel('accuray')\n",
        "\n",
        "loss_ax.legend(loc='upper left')\n",
        "acc_ax.legend(loc='lower left')\n",
        "\n",
        "plt.show()\n",
        "# acc, 정확도\n",
        "# loss, 손실"
      ]
    },
    {
      "cell_type": "code",
      "execution_count": null,
      "metadata": {
        "colab": {
          "base_uri": "https://localhost:8080/",
          "height": 301
        },
        "id": "vGBfiZoIL0Ul",
        "outputId": "e11d3b3e-0ca8-457b-f0de-d1a938324dbc"
      },
      "outputs": [
        {
          "name": "stderr",
          "output_type": "stream",
          "text": [
            "No handles with labels found to put in legend.\n"
          ]
        },
        {
          "data": {
            "image/png": "[encoded data removed]",
            "text/plain": [
              "<Figure size 432x288 with 2 Axes>"
            ]
          },
          "metadata": {
            "needs_background": "light"
          },
          "output_type": "display_data"
        }
      ],
      "source": [
        "# 모델 학습 과정 표시\n",
        "\n",
        "import matplotlib.pyplot as plt\n",
        "\n",
        "fig, loss_ax = plt.subplots()\n",
        "\n",
        "acc_ax = loss_ax.twinx()\n",
        "\n",
        "loss_ax.plot(hist.history['loss'], 'y', label='train loss')\n",
        "loss_ax.plot(hist.history['val_loss'], 'r', label='val loss')\n",
        "\n",
        "# acc_ax.plot(hist.history['accuracy'], 'b', label='train acc')\n",
        "# acc_ax.plot(hist.history['val_accuracy'], 'g', label='val acc')\n",
        "\n",
        "loss_ax.set_xlabel('epoch')\n",
        "loss_ax.set_ylabel('loss')\n",
        "# acc_ax.set_ylabel('accuray')\n",
        "\n",
        "loss_ax.legend(loc='upper left')\n",
        "acc_ax.legend(loc='lower left')\n",
        "\n",
        "plt.show()\n",
        "# acc, 정확도\n",
        "# loss, 손실"
      ]
    }
  ],
  "metadata": {
    "accelerator": "GPU",
    "colab": {
      "collapsed_sections": [],
      "machine_shape": "hm",
      "name": "프로젝트",
      "provenance": []
    },
    "kernelspec": {
      "display_name": "Python 3",
      "name": "python3"
    },
    "language_info": {
      "name": "python"
    }
  },
  "nbformat": 4,
  "nbformat_minor": 0
}
